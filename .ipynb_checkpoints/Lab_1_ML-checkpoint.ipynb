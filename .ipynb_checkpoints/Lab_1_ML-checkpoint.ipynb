{
 "cells": [
  {
   "cell_type": "markdown",
   "id": "bfba9fdd-43cd-4b71-b4ce-bd989e72155c",
   "metadata": {},
   "source": [
    "**LAB NO 1**"
   ]
  },
  {
   "cell_type": "code",
   "execution_count": 22,
   "id": "ebc2f7e5-a56b-47ba-bdd4-a16ffbac0dec",
   "metadata": {},
   "outputs": [
    {
     "name": "stdout",
     "output_type": "stream",
     "text": [
      "My name is John, and I am 25 years old.\n"
     ]
    }
   ],
   "source": [
    "#Example No 1\n",
    "name = \"John\"\n",
    "age = 25\n",
    "print(f\"My name is {name}, and I am {age} years old.\")"
   ]
  },
  {
   "cell_type": "markdown",
   "id": "689eecf2-c71d-4390-96d1-b19706233a0c",
   "metadata": {},
   "source": [
    "**LOOPS**"
   ]
  },
  {
   "cell_type": "code",
   "execution_count": 24,
   "id": "ef0bb5cf-d827-43ec-bee6-f358403740c0",
   "metadata": {},
   "outputs": [
    {
     "name": "stdout",
     "output_type": "stream",
     "text": [
      "I love apple\n",
      "I love banana\n",
      "I love cherry\n"
     ]
    }
   ],
   "source": [
    "fruits = [\"apple\", \"banana\", \"cherry\"]\n",
    "for fruit in fruits:\n",
    "    \n",
    "    print(f\"I love {fruit}\")"
   ]
  },
  {
   "cell_type": "markdown",
   "id": "ce8bbd65-64dd-49fd-8f8d-aea6e6d60466",
   "metadata": {},
   "source": [
    "**Function**"
   ]
  },
  {
   "cell_type": "code",
   "execution_count": 27,
   "id": "a3e8b0f4-3b71-451d-983c-e457dd16f941",
   "metadata": {},
   "outputs": [],
   "source": [
    "def greet(name):\n",
    "    \n",
    "    return f\"Hello, {name}!\"\n"
   ]
  },
  {
   "cell_type": "code",
   "execution_count": 28,
   "id": "29da4be7-cb28-4db1-a956-709e0045dbef",
   "metadata": {},
   "outputs": [
    {
     "name": "stdout",
     "output_type": "stream",
     "text": [
      "Hello, Alice!\n"
     ]
    }
   ],
   "source": [
    "print(greet(\"Alice\"))"
   ]
  },
  {
   "cell_type": "markdown",
   "id": "9629354a-c3a6-41d4-bb55-d84acb676966",
   "metadata": {},
   "source": [
    "**CSV FILE**"
   ]
  },
  {
   "cell_type": "code",
   "execution_count": 29,
   "id": "e10d1fea-bb20-4755-abd9-6b237f68e7e9",
   "metadata": {},
   "outputs": [
    {
     "name": "stdout",
     "output_type": "stream",
     "text": [
      "CSV file 'General.csv' created and data written successfully!\n"
     ]
    }
   ],
   "source": [
    "import csv\n",
    "# Data to write (list of lists)\n",
    "data = [\n",
    " [\"Name\", \"Age\", \"City\"], # Header\n",
    " [\"John\", 25, \"New York\"],\n",
    " [\"Anna\", 30, \"Los Angeles\"],\n",
    " [\"Mike\", 35, \"Chicago\"]\n",
    "]\n",
    "# Creating and writing to a CSV file\n",
    "with open('General.csv', mode='w', newline='') as file:\n",
    " writer = csv.writer(file)\n",
    " writer.writerows(data) # Write multiple rows\n",
    "print(\"CSV file 'General.csv' created and data written successfully!\")"
   ]
  },
  {
   "cell_type": "markdown",
   "id": "0ebeac7e-e8cc-4ba6-834c-f6106256f052",
   "metadata": {},
   "source": [
    "**Read from a CSV File**"
   ]
  },
  {
   "cell_type": "code",
   "execution_count": 32,
   "id": "d4a84a63-ee81-4c5f-8dff-caa2c5578d72",
   "metadata": {},
   "outputs": [
    {
     "name": "stdout",
     "output_type": "stream",
     "text": [
      "['Name', 'Age', 'City']\n",
      "['John', '25', 'New York']\n",
      "['Anna', '30', 'Los Angeles']\n",
      "['Mike', '35', 'Chicago']\n"
     ]
    }
   ],
   "source": [
    "with open('General.csv' , mode='r') as file :\n",
    "    read = csv.reader(file)\n",
    "    for row in read:\n",
    "        print(row)\n"
   ]
  },
  {
   "cell_type": "markdown",
   "id": "e9b18297-680a-4dd9-9267-0ecc68773885",
   "metadata": {},
   "source": [
    "**Working with json**"
   ]
  },
  {
   "cell_type": "code",
   "execution_count": 33,
   "id": "12b6ef40-9d5e-4a50-9d82-b5afb9a76f26",
   "metadata": {},
   "outputs": [
    {
     "name": "stdout",
     "output_type": "stream",
     "text": [
      "JSON file 'General.json' created and data written successfully!\n"
     ]
    }
   ],
   "source": [
    "import json\n",
    "# Data to write (dictionary)\n",
    "data = {\n",
    " \"people\": [\n",
    " {\"name\": \"John\", \"age\": 25, \"city\": \"New York\"},\n",
    " {\"name\": \"Anna\", \"age\": 30, \"city\": \"Los Angeles\"},\n",
    " {\"name\": \"Mike\", \"age\": 35, \"city\": \"Chicago\"}\n",
    " ]\n",
    "}\n",
    "# Creating and writing to a JSON file\n",
    "with open('people_data.json', mode='w') as file:\n",
    " json.dump(data, file, indent=4) # Write JSON with indentation for readability\n",
    "print(\"JSON file 'General.json' created and data written successfully!\")"
   ]
  },
  {
   "cell_type": "code",
   "execution_count": 45,
   "id": "4f1a5c61-ec51-4d0a-a046-f8e7924f980e",
   "metadata": {},
   "outputs": [
    {
     "name": "stdout",
     "output_type": "stream",
     "text": [
      "John\n"
     ]
    }
   ],
   "source": [
    "with open('people_data.json' , mode='r') as file:\n",
    "    data = json.load(file)  \n",
    "    print(data.get('people')[0]['name'])  "
   ]
  },
  {
   "cell_type": "markdown",
   "id": "081c2f8c-91a7-4fff-90a8-d5505d881308",
   "metadata": {},
   "source": [
    "**Factorial of a given number**"
   ]
  },
  {
   "cell_type": "code",
   "execution_count": 67,
   "id": "cad45727-1028-4a03-9c96-5e28f0a8beca",
   "metadata": {},
   "outputs": [],
   "source": [
    "def fictorials(n):\n",
    "    if n<0:\n",
    "        print(\"Number is less than 0 so no fictorial\")\n",
    "    elif n==0 or n==1: \n",
    "        return 1\n",
    "    else:\n",
    "        result=1\n",
    "        for fic in range(1,n+1):\n",
    "            result *=fic\n",
    "        return result\n",
    "   \n",
    "    \n",
    "    \n",
    "    "
   ]
  },
  {
   "cell_type": "code",
   "execution_count": 68,
   "id": "4970502b-ccfc-48c7-9558-76385fb19cdf",
   "metadata": {},
   "outputs": [
    {
     "data": {
      "text/plain": [
       "24"
      ]
     },
     "execution_count": 68,
     "metadata": {},
     "output_type": "execute_result"
    }
   ],
   "source": [
    "fictorials(4)"
   ]
  },
  {
   "cell_type": "markdown",
   "id": "4b1f7f11-ef7c-498d-a7cb-56c6ff922a6d",
   "metadata": {},
   "source": [
    "**Task No 2**"
   ]
  },
  {
   "cell_type": "code",
   "execution_count": 75,
   "id": "ec912ad1-1d7a-409c-b740-80c071bf93ff",
   "metadata": {},
   "outputs": [],
   "source": [
    "import json\n",
    "data = {\n",
    " \"people\": [\n",
    " {\"name\": \"John\", \"age\": 25, \"city\": \"New York\"},\n",
    " {\"name\": \"Anna\", \"age\": 30, \"city\": \"Los Angeles\"},\n",
    " {\"name\": \"Mike\", \"age\": 35, \"city\": \"Chicago\"}\n",
    " ]\n",
    "}\n",
    "with open('items.json' , mode='w') as file:\n",
    "    json.dump(data,file )\n",
    "\n"
   ]
  },
  {
   "cell_type": "code",
   "execution_count": 77,
   "id": "cd7000f3-cd4b-4606-a05b-14d8a4782337",
   "metadata": {},
   "outputs": [],
   "source": [
    "with open('items.json' , mode='r') as file:\n",
    "    result =  json.load(file)\n"
   ]
  },
  {
   "cell_type": "code",
   "execution_count": 78,
   "id": "f6c35e8d-29f4-43cb-8459-0028ab946583",
   "metadata": {},
   "outputs": [
    {
     "name": "stdout",
     "output_type": "stream",
     "text": [
      "{'people': [{'name': 'John', 'age': 25, 'city': 'New York'}, {'name': 'Anna', 'age': 30, 'city': 'Los Angeles'}, {'name': 'Mike', 'age': 35, 'city': 'Chicago'}]}\n"
     ]
    }
   ],
   "source": [
    "print(result)"
   ]
  },
  {
   "cell_type": "code",
   "execution_count": null,
   "id": "f964a538-479c-41a7-ab53-d683cea9f9e0",
   "metadata": {},
   "outputs": [],
   "source": []
  }
 ],
 "metadata": {
  "kernelspec": {
   "display_name": "Python 3 (ipykernel)",
   "language": "python",
   "name": "python3"
  },
  "language_info": {
   "codemirror_mode": {
    "name": "ipython",
    "version": 3
   },
   "file_extension": ".py",
   "mimetype": "text/x-python",
   "name": "python",
   "nbconvert_exporter": "python",
   "pygments_lexer": "ipython3",
   "version": "3.12.7"
  }
 },
 "nbformat": 4,
 "nbformat_minor": 5
}
