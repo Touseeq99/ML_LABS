{
 "cells": [
  {
   "cell_type": "markdown",
   "id": "bfba9fdd-43cd-4b71-b4ce-bd989e72155c",
   "metadata": {},
   "source": [
    "**LAB NO 1**"
   ]
  },
  {
   "cell_type": "code",
   "execution_count": 22,
   "id": "ebc2f7e5-a56b-47ba-bdd4-a16ffbac0dec",
   "metadata": {},
   "outputs": [
    {
     "name": "stdout",
     "output_type": "stream",
     "text": [
      "My name is John, and I am 25 years old.\n"
     ]
    }
   ],
   "source": [
    "#Example No 1\n",
    "name = \"John\"\n",
    "age = 25\n",
    "print(f\"My name is {name}, and I am {age} years old.\")"
   ]
  },
  {
   "cell_type": "markdown",
   "id": "689eecf2-c71d-4390-96d1-b19706233a0c",
   "metadata": {},
   "source": [
    "**LOOPS**"
   ]
  },
  {
   "cell_type": "code",
   "execution_count": 24,
   "id": "ef0bb5cf-d827-43ec-bee6-f358403740c0",
   "metadata": {},
   "outputs": [
    {
     "name": "stdout",
     "output_type": "stream",
     "text": [
      "I love apple\n",
      "I love banana\n",
      "I love cherry\n"
     ]
    }
   ],
   "source": [
    "fruits = [\"apple\", \"banana\", \"cherry\"]\n",
    "for fruit in fruits:\n",
    "    \n",
    "    print(f\"I love {fruit}\")"
   ]
  },
  {
   "cell_type": "markdown",
   "id": "ce8bbd65-64dd-49fd-8f8d-aea6e6d60466",
   "metadata": {},
   "source": [
    "**Function**"
   ]
  },
  {
   "cell_type": "code",
   "execution_count": 27,
   "id": "a3e8b0f4-3b71-451d-983c-e457dd16f941",
   "metadata": {},
   "outputs": [],
   "source": [
    "def greet(name):\n",
    "    \n",
    "    return f\"Hello, {name}!\"\n"
   ]
  },
  {
   "cell_type": "code",
   "execution_count": 28,
   "id": "29da4be7-cb28-4db1-a956-709e0045dbef",
   "metadata": {},
   "outputs": [
    {
     "name": "stdout",
     "output_type": "stream",
     "text": [
      "Hello, Alice!\n"
     ]
    }
   ],
   "source": [
    "print(greet(\"Alice\"))"
   ]
  },
  {
   "cell_type": "markdown",
   "id": "9629354a-c3a6-41d4-bb55-d84acb676966",
   "metadata": {},
   "source": [
    "**CSV FILE**"
   ]
  },
  {
   "cell_type": "code",
   "execution_count": 29,
   "id": "e10d1fea-bb20-4755-abd9-6b237f68e7e9",
   "metadata": {},
   "outputs": [
    {
     "name": "stdout",
     "output_type": "stream",
     "text": [
      "CSV file 'General.csv' created and data written successfully!\n"
     ]
    }
   ],
   "source": [
    "import csv\n",
    "# Data to write (list of lists)\n",
    "data = [\n",
    " [\"Name\", \"Age\", \"City\"], # Header\n",
    " [\"John\", 25, \"New York\"],\n",
    " [\"Anna\", 30, \"Los Angeles\"],\n",
    " [\"Mike\", 35, \"Chicago\"]\n",
    "]\n",
    "# Creating and writing to a CSV file\n",
    "with open('General.csv', mode='w', newline='') as file:\n",
    " writer = csv.writer(file)\n",
    " writer.writerows(data) # Write multiple rows\n",
    "print(\"CSV file 'General.csv' created and data written successfully!\")"
   ]
  },
  {
   "cell_type": "markdown",
   "id": "0ebeac7e-e8cc-4ba6-834c-f6106256f052",
   "metadata": {},
   "source": [
    "**Read from a CSV File**"
   ]
  },
  {
   "cell_type": "code",
   "execution_count": 32,
   "id": "d4a84a63-ee81-4c5f-8dff-caa2c5578d72",
   "metadata": {},
   "outputs": [
    {
     "name": "stdout",
     "output_type": "stream",
     "text": [
      "['Name', 'Age', 'City']\n",
      "['John', '25', 'New York']\n",
      "['Anna', '30', 'Los Angeles']\n",
      "['Mike', '35', 'Chicago']\n"
     ]
    }
   ],
   "source": [
    "with open('General.csv' , mode='r') as file :\n",
    "    read = csv.reader(file)\n",
    "    for row in read:\n",
    "        print(row)\n"
   ]
  },
  {
   "cell_type": "markdown",
   "id": "e9b18297-680a-4dd9-9267-0ecc68773885",
   "metadata": {},
   "source": [
    "**Working with json**"
   ]
  },
  {
   "cell_type": "code",
   "execution_count": 33,
   "id": "12b6ef40-9d5e-4a50-9d82-b5afb9a76f26",
   "metadata": {},
   "outputs": [
    {
     "name": "stdout",
     "output_type": "stream",
     "text": [
      "JSON file 'General.json' created and data written successfully!\n"
     ]
    }
   ],
   "source": [
    "import json\n",
    "# Data to write (dictionary)\n",
    "data = {\n",
    " \"people\": [\n",
    " {\"name\": \"John\", \"age\": 25, \"city\": \"New York\"},\n",
    " {\"name\": \"Anna\", \"age\": 30, \"city\": \"Los Angeles\"},\n",
    " {\"name\": \"Mike\", \"age\": 35, \"city\": \"Chicago\"}\n",
    " ]\n",
    "}\n",
    "# Creating and writing to a JSON file\n",
    "with open('people_data.json', mode='w') as file:\n",
    " json.dump(data, file, indent=4) # Write JSON with indentation for readability\n",
    "print(\"JSON file 'General.json' created and data written successfully!\")"
   ]
  },
  {
   "cell_type": "code",
   "execution_count": 45,
   "id": "4f1a5c61-ec51-4d0a-a046-f8e7924f980e",
   "metadata": {},
   "outputs": [
    {
     "name": "stdout",
     "output_type": "stream",
     "text": [
      "John\n"
     ]
    }
   ],
   "source": [
    "with open('people_data.json' , mode='r') as file:\n",
    "    data = json.load(file)  \n",
    "    print(data.get('people')[0]['name'])  "
   ]
  },
  {
   "cell_type": "markdown",
   "id": "081c2f8c-91a7-4fff-90a8-d5505d881308",
   "metadata": {},
   "source": [
    "**Factorial of a given number**"
   ]
  },
  {
   "cell_type": "code",
   "execution_count": 67,
   "id": "cad45727-1028-4a03-9c96-5e28f0a8beca",
   "metadata": {},
   "outputs": [],
   "source": [
    "def fictorials(n):\n",
    "    if n<0:\n",
    "        print(\"Number is less than 0 so no fictorial\")\n",
    "    elif n==0 or n==1: \n",
    "        return 1\n",
    "    else:\n",
    "        result=1\n",
    "        for fic in range(1,n+1):\n",
    "            result *=fic\n",
    "        return result\n",
    "   \n",
    "    \n",
    "    \n",
    "    "
   ]
  },
  {
   "cell_type": "code",
   "execution_count": 68,
   "id": "4970502b-ccfc-48c7-9558-76385fb19cdf",
   "metadata": {},
   "outputs": [
    {
     "data": {
      "text/plain": [
       "24"
      ]
     },
     "execution_count": 68,
     "metadata": {},
     "output_type": "execute_result"
    }
   ],
   "source": [
    "fictorials(4)"
   ]
  },
  {
   "cell_type": "markdown",
   "id": "4b1f7f11-ef7c-498d-a7cb-56c6ff922a6d",
   "metadata": {},
   "source": [
    "**Task No 2**"
   ]
  },
  {
   "cell_type": "code",
   "execution_count": 75,
   "id": "ec912ad1-1d7a-409c-b740-80c071bf93ff",
   "metadata": {},
   "outputs": [],
   "source": [
    "import json\n",
    "data = {\n",
    " \"people\": [\n",
    " {\"name\": \"John\", \"age\": 25, \"city\": \"New York\"},\n",
    " {\"name\": \"Anna\", \"age\": 30, \"city\": \"Los Angeles\"},\n",
    " {\"name\": \"Mike\", \"age\": 35, \"city\": \"Chicago\"}\n",
    " ]\n",
    "}\n",
    "with open('items.json' , mode='w') as file:\n",
    "    json.dump(data,file )\n",
    "\n"
   ]
  },
  {
   "cell_type": "code",
   "execution_count": 77,
   "id": "cd7000f3-cd4b-4606-a05b-14d8a4782337",
   "metadata": {},
   "outputs": [],
   "source": [
    "with open('items.json' , mode='r') as file:\n",
    "    result =  json.load(file)\n"
   ]
  },
  {
   "cell_type": "code",
   "execution_count": 78,
   "id": "f6c35e8d-29f4-43cb-8459-0028ab946583",
   "metadata": {},
   "outputs": [
    {
     "name": "stdout",
     "output_type": "stream",
     "text": [
      "{'people': [{'name': 'John', 'age': 25, 'city': 'New York'}, {'name': 'Anna', 'age': 30, 'city': 'Los Angeles'}, {'name': 'Mike', 'age': 35, 'city': 'Chicago'}]}\n"
     ]
    }
   ],
   "source": [
    "print(result)"
   ]
  },
  {
   "cell_type": "code",
   "execution_count": 79,
   "id": "f964a538-479c-41a7-ab53-d683cea9f9e0",
   "metadata": {},
   "outputs": [
    {
     "name": "stdout",
     "output_type": "stream",
     "text": [
      "Initialized empty Git repository in C:/Users/tause/MACHINE_LEARNING/.git/\n"
     ]
    }
   ],
   "source": [
    "!git init"
   ]
  },
  {
   "cell_type": "code",
   "execution_count": 80,
   "id": "2a6986d9-19d4-4a15-895d-2be3f6ceb5d6",
   "metadata": {},
   "outputs": [
    {
     "name": "stderr",
     "output_type": "stream",
     "text": [
      "warning: in the working copy of '.ipynb_checkpoints/Lab_1_ML-checkpoint.ipynb', LF will be replaced by CRLF the next time Git touches it\n",
      "warning: in the working copy of '.ipynb_checkpoints/Ml_Practice-checkpoint.ipynb', LF will be replaced by CRLF the next time Git touches it\n",
      "warning: in the working copy of '.ipynb_checkpoints/test-checkpoint.csv', LF will be replaced by CRLF the next time Git touches it\n",
      "warning: in the working copy of 'Lab_1_ML.ipynb', LF will be replaced by CRLF the next time Git touches it\n",
      "warning: in the working copy of 'Ml_Practice.ipynb', LF will be replaced by CRLF the next time Git touches it\n",
      "warning: in the working copy of 'sample_submission.csv', LF will be replaced by CRLF the next time Git touches it\n",
      "warning: in the working copy of 'test.csv', LF will be replaced by CRLF the next time Git touches it\n",
      "warning: in the working copy of 'train.csv', LF will be replaced by CRLF the next time Git touches it\n"
     ]
    }
   ],
   "source": [
    "!git add ."
   ]
  },
  {
   "cell_type": "code",
   "execution_count": 83,
   "id": "2a34f74b-042b-4c78-aae4-d980213fe30a",
   "metadata": {},
   "outputs": [
    {
     "name": "stdout",
     "output_type": "stream",
     "text": [
      "[master (root-commit) a4aeadc] Initial commit\n",
      " 11 files changed, 8877 insertions(+)\n",
      " create mode 100644 .ipynb_checkpoints/Lab_1_ML-checkpoint.ipynb\n",
      " create mode 100644 .ipynb_checkpoints/Ml_Practice-checkpoint.ipynb\n",
      " create mode 100644 .ipynb_checkpoints/test-checkpoint.csv\n",
      " create mode 100644 General.csv\n",
      " create mode 100644 Lab_1_ML.ipynb\n",
      " create mode 100644 Ml_Practice.ipynb\n",
      " create mode 100644 items.json\n",
      " create mode 100644 people_data.json\n",
      " create mode 100644 sample_submission.csv\n",
      " create mode 100644 test.csv\n",
      " create mode 100644 train.csv\n"
     ]
    }
   ],
   "source": [
    "!git commit -m \"Initial commit\""
   ]
  },
  {
   "cell_type": "code",
   "execution_count": 84,
   "id": "9ffb4796-19a1-4fc5-8f69-13f681ca4013",
   "metadata": {},
   "outputs": [
    {
     "name": "stderr",
     "output_type": "stream",
     "text": [
      "Cloning into 'ML_LABS'...\n"
     ]
    }
   ],
   "source": [
    "!git clone "
   ]
  },
  {
   "cell_type": "code",
   "execution_count": 85,
   "id": "45133b7a-04b2-4658-b539-c32520fed285",
   "metadata": {},
   "outputs": [],
   "source": [
    "!git remote add origin https://github.com/Touseeq99/ML_LABS.git"
   ]
  },
  {
   "cell_type": "code",
   "execution_count": 87,
   "id": "2273faf3-b36b-4e36-8f23-b70cd8f5474e",
   "metadata": {},
   "outputs": [
    {
     "name": "stdout",
     "output_type": "stream",
     "text": [
      "* master\n"
     ]
    }
   ],
   "source": [
    "!git branch"
   ]
  },
  {
   "cell_type": "code",
   "execution_count": 90,
   "id": "d4cd7ee6-99d3-4be1-8df2-e4406eac738e",
   "metadata": {},
   "outputs": [
    {
     "name": "stderr",
     "output_type": "stream",
     "text": [
      "From https://github.com/Touseeq99/ML_LABS\n",
      " * [new branch]      main       -> origin/main\n"
     ]
    }
   ],
   "source": [
    "!git fetch origin"
   ]
  },
  {
   "cell_type": "code",
   "execution_count": 91,
   "id": "e15323b8-0fb9-43d5-80e2-596ee40e70d3",
   "metadata": {},
   "outputs": [
    {
     "name": "stderr",
     "output_type": "stream",
     "text": [
      "error: Your local changes to the following files would be overwritten by checkout:\n",
      "\tLab_1_ML.ipynb\n",
      "Please commit your changes or stash them before you switch branches.\n",
      "Aborting\n"
     ]
    }
   ],
   "source": [
    "!git checkout main"
   ]
  },
  {
   "cell_type": "code",
   "execution_count": 93,
   "id": "0c54ce99-1666-4bab-9f9e-a853f8fa2482",
   "metadata": {},
   "outputs": [
    {
     "name": "stderr",
     "output_type": "stream",
     "text": [
      "warning: in the working copy of 'Lab_1_ML.ipynb', LF will be replaced by CRLF the next time Git touches it\n",
      "warning: adding embedded git repository: ML_LABS\n",
      "hint: You've added another git repository inside your current repository.\n",
      "hint: Clones of the outer repository will not contain the contents of\n",
      "hint: the embedded repository and will not know how to obtain it.\n",
      "hint: If you meant to add a submodule, use:\n",
      "hint:\n",
      "hint: \tgit submodule add <url> ML_LABS\n",
      "hint:\n",
      "hint: If you added this path by mistake, you can remove it from the\n",
      "hint: index with:\n",
      "hint:\n",
      "hint: \tgit rm --cached ML_LABS\n",
      "hint:\n",
      "hint: See \"git help submodule\" for more information.\n",
      "hint: Disable this message with \"git config advice.addEmbeddedRepo false\"\n"
     ]
    }
   ],
   "source": [
    "!git add ."
   ]
  },
  {
   "cell_type": "code",
   "execution_count": 94,
   "id": "1cbb8db9-1bac-4458-8f6d-62b3ac06f6e3",
   "metadata": {},
   "outputs": [
    {
     "name": "stdout",
     "output_type": "stream",
     "text": [
      "[master 3453ea7] origin commit\n",
      " 2 files changed, 143 insertions(+), 1 deletion(-)\n",
      " create mode 160000 ML_LABS\n"
     ]
    }
   ],
   "source": [
    "!git commit -m \"origin commit\""
   ]
  },
  {
   "cell_type": "code",
   "execution_count": 101,
   "id": "6b17bbab-785a-490b-9c44-c20958a29f53",
   "metadata": {},
   "outputs": [
    {
     "name": "stdout",
     "output_type": "stream",
     "text": [
      "  origin/main\n"
     ]
    }
   ],
   "source": [
    "!git branch -r"
   ]
  },
  {
   "cell_type": "code",
   "execution_count": 102,
   "id": "3f57744f-d5ba-41ab-a94c-e1edd63ed552",
   "metadata": {},
   "outputs": [
    {
     "name": "stderr",
     "output_type": "stream",
     "text": [
      "error: src refspec main does not match any\n",
      "error: failed to push some refs to 'https://github.com/Touseeq99/ML_LABS.git'\n"
     ]
    }
   ],
   "source": [
    "!git push origin main"
   ]
  },
  {
   "cell_type": "code",
   "execution_count": null,
   "id": "b0e251bf-2e44-419a-b947-0c161a9b201c",
   "metadata": {},
   "outputs": [],
   "source": []
  }
 ],
 "metadata": {
  "kernelspec": {
   "display_name": "Python 3 (ipykernel)",
   "language": "python",
   "name": "python3"
  },
  "language_info": {
   "codemirror_mode": {
    "name": "ipython",
    "version": 3
   },
   "file_extension": ".py",
   "mimetype": "text/x-python",
   "name": "python",
   "nbconvert_exporter": "python",
   "pygments_lexer": "ipython3",
   "version": "3.12.7"
  }
 },
 "nbformat": 4,
 "nbformat_minor": 5
}
